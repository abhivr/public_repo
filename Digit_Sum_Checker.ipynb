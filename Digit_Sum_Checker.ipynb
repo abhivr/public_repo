{
  "nbformat": 4,
  "nbformat_minor": 0,
  "metadata": {
    "colab": {
      "name": "Digit Sum Checker.ipynb",
      "provenance": [],
      "collapsed_sections": []
    },
    "kernelspec": {
      "name": "python3",
      "display_name": "Python 3"
    },
    "language_info": {
      "name": "python"
    }
  },
  "cells": [
    {
      "cell_type": "code",
      "source": [
        "# Calculate DS\n",
        "def calculate_ds(x):\n",
        "  while x not in (0,1,2,3,4,5,6,7,8,9): #Conditionaly iterate until number is in the tuple.\n",
        "      a=0 #Variable that holds the digit sum.\n",
        "      for i in str(x): #Iterate over the numbers in the number.\n",
        "          a+=int(i) #sum the numbers\n",
        "      x=a #Change the value of the number to the digit sum.\n",
        "  return(x)"
      ],
      "metadata": {
        "id": "0iYY6Lh9gW2v"
      },
      "execution_count": 40,
      "outputs": []
    },
    {
      "cell_type": "code",
      "execution_count": 41,
      "metadata": {
        "id": "waH5xv-DdXE8"
      },
      "outputs": [],
      "source": [
        "def digit_sum(r11,r12,r21,r22,r31,r32,pr=False,pw=False):\n",
        "  global lr #Make list to hold correct digit sums.\n",
        "  lr=[]\n",
        "  global lw #Make list to hold incorrect digit sums.\n",
        "  lw=[]\n",
        "  for n1 in range(r11,r12): #First iterator gets added to ->\n",
        "      for n2 in range(r21,r22):#second iterator to equal ->\n",
        "          for n3 in range(r31,r32):#third iterator.\n",
        "              x=n1+n2 #Variable that holds correct sum of first to iterators.\n",
        "              \n",
        "              n4 = calculate_ds(n1)\n",
        "              n5 = calculate_ds(n2)\n",
        "              n45=n4+n5 #Sum the first and second number.\n",
        "\n",
        "              n45 = calculate_ds(n45)\n",
        "              n6 = calculate_ds(n3)\n",
        "              \n",
        "              if n45 == n6 and n3 != x:\n",
        "                  lw.append([n1,n2,n3])\n",
        "                  if pw==True: #Can print the incorrect digit sums.\n",
        "                      print(str(n1)+'+'+str(n2)+'!='+str(n3))\n",
        "              else: \n",
        "                  lr.append([n1,n2,n3])\n",
        "                  if pr==True: #Can print the correct digit sums.\n",
        "                      print(str(n1)+'+'+str(n2)+'='+str(n3))"
      ]
    },
    {
      "cell_type": "code",
      "source": [
        "digit_sum(1,101,1,101,1,201,)"
      ],
      "metadata": {
        "id": "Y6wzmJ-4jFJo"
      },
      "execution_count": 46,
      "outputs": []
    },
    {
      "cell_type": "code",
      "source": [
        "len(lw)/(len(lw)+len(lr))"
      ],
      "metadata": {
        "colab": {
          "base_uri": "https://localhost:8080/"
        },
        "id": "xmQZ3pWgjNmv",
        "outputId": "0e20815a-0399-4c13-d895-ebb3fe25b0fe"
      },
      "execution_count": 47,
      "outputs": [
        {
          "output_type": "execute_result",
          "data": {
            "text/plain": [
              "0.1061115"
            ]
          },
          "metadata": {},
          "execution_count": 47
        }
      ]
    },
    {
      "cell_type": "code",
      "source": [
        "digit_sum(1,2,1,2,1,100,pw=True)"
      ],
      "metadata": {
        "colab": {
          "base_uri": "https://localhost:8080/"
        },
        "id": "660_H0UTjcnC",
        "outputId": "ae1c8281-5826-4f4d-c72a-b750418497eb"
      },
      "execution_count": 45,
      "outputs": [
        {
          "output_type": "stream",
          "name": "stdout",
          "text": [
            "1+1!=11\n",
            "1+1!=20\n",
            "1+1!=29\n",
            "1+1!=38\n",
            "1+1!=47\n",
            "1+1!=56\n",
            "1+1!=65\n",
            "1+1!=74\n",
            "1+1!=83\n",
            "1+1!=92\n"
          ]
        }
      ]
    },
    {
      "cell_type": "code",
      "source": [
        "digit_sum(1,2,1,2,1,100,pr=True)"
      ],
      "metadata": {
        "colab": {
          "base_uri": "https://localhost:8080/"
        },
        "id": "1CJXklzmmJkY",
        "outputId": "5b7084da-e250-4055-9744-72adbcc6f242"
      },
      "execution_count": 48,
      "outputs": [
        {
          "output_type": "stream",
          "name": "stdout",
          "text": [
            "1+1=1\n",
            "1+1=2\n",
            "1+1=3\n",
            "1+1=4\n",
            "1+1=5\n",
            "1+1=6\n",
            "1+1=7\n",
            "1+1=8\n",
            "1+1=9\n",
            "1+1=10\n",
            "1+1=12\n",
            "1+1=13\n",
            "1+1=14\n",
            "1+1=15\n",
            "1+1=16\n",
            "1+1=17\n",
            "1+1=18\n",
            "1+1=19\n",
            "1+1=21\n",
            "1+1=22\n",
            "1+1=23\n",
            "1+1=24\n",
            "1+1=25\n",
            "1+1=26\n",
            "1+1=27\n",
            "1+1=28\n",
            "1+1=30\n",
            "1+1=31\n",
            "1+1=32\n",
            "1+1=33\n",
            "1+1=34\n",
            "1+1=35\n",
            "1+1=36\n",
            "1+1=37\n",
            "1+1=39\n",
            "1+1=40\n",
            "1+1=41\n",
            "1+1=42\n",
            "1+1=43\n",
            "1+1=44\n",
            "1+1=45\n",
            "1+1=46\n",
            "1+1=48\n",
            "1+1=49\n",
            "1+1=50\n",
            "1+1=51\n",
            "1+1=52\n",
            "1+1=53\n",
            "1+1=54\n",
            "1+1=55\n",
            "1+1=57\n",
            "1+1=58\n",
            "1+1=59\n",
            "1+1=60\n",
            "1+1=61\n",
            "1+1=62\n",
            "1+1=63\n",
            "1+1=64\n",
            "1+1=66\n",
            "1+1=67\n",
            "1+1=68\n",
            "1+1=69\n",
            "1+1=70\n",
            "1+1=71\n",
            "1+1=72\n",
            "1+1=73\n",
            "1+1=75\n",
            "1+1=76\n",
            "1+1=77\n",
            "1+1=78\n",
            "1+1=79\n",
            "1+1=80\n",
            "1+1=81\n",
            "1+1=82\n",
            "1+1=84\n",
            "1+1=85\n",
            "1+1=86\n",
            "1+1=87\n",
            "1+1=88\n",
            "1+1=89\n",
            "1+1=90\n",
            "1+1=91\n",
            "1+1=93\n",
            "1+1=94\n",
            "1+1=95\n",
            "1+1=96\n",
            "1+1=97\n",
            "1+1=98\n",
            "1+1=99\n"
          ]
        }
      ]
    }
  ]
}